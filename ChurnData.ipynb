{
 "cells": [
  {
   "cell_type": "markdown",
   "metadata": {
    "id": "re00upE689CK"
   },
   "source": [
    "Import packages:"
   ]
  },
  {
   "cell_type": "code",
   "execution_count": 1,
   "metadata": {
    "colab": {
     "base_uri": "https://localhost:8080/",
     "height": 72,
     "resources": {
      "http://localhost:8080/nbextensions/google.colab/files.js": {
       "data": "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",
       "headers": [
        [
         "content-type",
         "application/javascript"
        ]
       ],
       "ok": true,
       "status": 200,
       "status_text": ""
      }
     }
    },
    "executionInfo": {
     "elapsed": 21234,
     "status": "ok",
     "timestamp": 1623783261133,
     "user": {
      "displayName": "David Anderson",
      "photoUrl": "https://lh3.googleusercontent.com/a-/AOh14Gh1wOZjsnAHR49J0WdE5Suuwf2KoMczy0iQCcSp=s64",
      "userId": "07356168932935782330"
     },
     "user_tz": 240
    },
    "id": "ftEHT_sg_VOg",
    "outputId": "94c774aa-c448-431d-8944-e45bd1bc781f"
   },
   "outputs": [],
   "source": [
    "import tensorflow as tf\n",
    "\n",
    "import sklearn as skl\n",
    "import numpy as np\n",
    "import pandas as pd\n",
    "import numpy as np\n",
    "import matplotlib.pyplot as plt\n"
   ]
  },
  {
   "cell_type": "markdown",
   "metadata": {
    "id": "gNof2ePU9AUj"
   },
   "source": [
    "Load in data and view\n"
   ]
  },
  {
   "cell_type": "code",
   "execution_count": 2,
   "metadata": {
    "colab": {
     "base_uri": "https://localhost:8080/",
     "height": 419
    },
    "executionInfo": {
     "elapsed": 343,
     "status": "ok",
     "timestamp": 1623783262256,
     "user": {
      "displayName": "David Anderson",
      "photoUrl": "https://lh3.googleusercontent.com/a-/AOh14Gh1wOZjsnAHR49J0WdE5Suuwf2KoMczy0iQCcSp=s64",
      "userId": "07356168932935782330"
     },
     "user_tz": 240
    },
    "id": "iI5yTF9k_lYh",
    "outputId": "fe2c163e-1b82-4297-e266-e1e82c52b8b0"
   },
   "outputs": [
    {
     "data": {
      "text/html": [
       "<div>\n",
       "<style scoped>\n",
       "    .dataframe tbody tr th:only-of-type {\n",
       "        vertical-align: middle;\n",
       "    }\n",
       "\n",
       "    .dataframe tbody tr th {\n",
       "        vertical-align: top;\n",
       "    }\n",
       "\n",
       "    .dataframe thead th {\n",
       "        text-align: right;\n",
       "    }\n",
       "</style>\n",
       "<table border=\"1\" class=\"dataframe\">\n",
       "  <thead>\n",
       "    <tr style=\"text-align: right;\">\n",
       "      <th></th>\n",
       "      <th>Sex</th>\n",
       "      <th>Birth Year</th>\n",
       "      <th>Death Year</th>\n",
       "      <th>Assignment Step Flag</th>\n",
       "      <th>Count of Primary Care Services</th>\n",
       "      <th>Beneficiary had a date of death prior to the start of the benchmark year</th>\n",
       "      <th>Beneficiary identifier is missing</th>\n",
       "      <th>Beneficiary had at least one month of Part A-only Or Part B-only Coverage</th>\n",
       "      <th>Beneficiary had at least one month in a Medicare Health Plan</th>\n",
       "      <th>Beneficiary does not reside in the United States</th>\n",
       "      <th>Beneficiary included in other Shared Savings Initiatives</th>\n",
       "    </tr>\n",
       "  </thead>\n",
       "  <tbody>\n",
       "    <tr>\n",
       "      <th>1</th>\n",
       "      <td>2</td>\n",
       "      <td>1933</td>\n",
       "      <td>2015.0</td>\n",
       "      <td>2</td>\n",
       "      <td>3</td>\n",
       "      <td>0</td>\n",
       "      <td>0</td>\n",
       "      <td>0</td>\n",
       "      <td>0</td>\n",
       "      <td>0</td>\n",
       "      <td>0</td>\n",
       "    </tr>\n",
       "    <tr>\n",
       "      <th>10</th>\n",
       "      <td>1</td>\n",
       "      <td>1921</td>\n",
       "      <td>2016.0</td>\n",
       "      <td>2</td>\n",
       "      <td>4</td>\n",
       "      <td>0</td>\n",
       "      <td>0</td>\n",
       "      <td>0</td>\n",
       "      <td>0</td>\n",
       "      <td>0</td>\n",
       "      <td>0</td>\n",
       "    </tr>\n",
       "    <tr>\n",
       "      <th>11</th>\n",
       "      <td>2</td>\n",
       "      <td>1926</td>\n",
       "      <td>2015.0</td>\n",
       "      <td>1</td>\n",
       "      <td>4</td>\n",
       "      <td>0</td>\n",
       "      <td>0</td>\n",
       "      <td>0</td>\n",
       "      <td>0</td>\n",
       "      <td>0</td>\n",
       "      <td>0</td>\n",
       "    </tr>\n",
       "    <tr>\n",
       "      <th>19</th>\n",
       "      <td>1</td>\n",
       "      <td>1941</td>\n",
       "      <td>2018.0</td>\n",
       "      <td>1</td>\n",
       "      <td>1</td>\n",
       "      <td>0</td>\n",
       "      <td>0</td>\n",
       "      <td>0</td>\n",
       "      <td>0</td>\n",
       "      <td>0</td>\n",
       "      <td>0</td>\n",
       "    </tr>\n",
       "    <tr>\n",
       "      <th>27</th>\n",
       "      <td>1</td>\n",
       "      <td>1919</td>\n",
       "      <td>2015.0</td>\n",
       "      <td>1</td>\n",
       "      <td>3</td>\n",
       "      <td>0</td>\n",
       "      <td>0</td>\n",
       "      <td>0</td>\n",
       "      <td>0</td>\n",
       "      <td>0</td>\n",
       "      <td>0</td>\n",
       "    </tr>\n",
       "    <tr>\n",
       "      <th>...</th>\n",
       "      <td>...</td>\n",
       "      <td>...</td>\n",
       "      <td>...</td>\n",
       "      <td>...</td>\n",
       "      <td>...</td>\n",
       "      <td>...</td>\n",
       "      <td>...</td>\n",
       "      <td>...</td>\n",
       "      <td>...</td>\n",
       "      <td>...</td>\n",
       "      <td>...</td>\n",
       "    </tr>\n",
       "    <tr>\n",
       "      <th>124442</th>\n",
       "      <td>2</td>\n",
       "      <td>1926</td>\n",
       "      <td>2016.0</td>\n",
       "      <td>1</td>\n",
       "      <td>2</td>\n",
       "      <td>0</td>\n",
       "      <td>0</td>\n",
       "      <td>0</td>\n",
       "      <td>0</td>\n",
       "      <td>0</td>\n",
       "      <td>0</td>\n",
       "    </tr>\n",
       "    <tr>\n",
       "      <th>124443</th>\n",
       "      <td>2</td>\n",
       "      <td>1917</td>\n",
       "      <td>2014.0</td>\n",
       "      <td>1</td>\n",
       "      <td>2</td>\n",
       "      <td>1</td>\n",
       "      <td>0</td>\n",
       "      <td>0</td>\n",
       "      <td>0</td>\n",
       "      <td>0</td>\n",
       "      <td>0</td>\n",
       "    </tr>\n",
       "    <tr>\n",
       "      <th>124447</th>\n",
       "      <td>2</td>\n",
       "      <td>1928</td>\n",
       "      <td>2015.0</td>\n",
       "      <td>1</td>\n",
       "      <td>3</td>\n",
       "      <td>0</td>\n",
       "      <td>0</td>\n",
       "      <td>0</td>\n",
       "      <td>0</td>\n",
       "      <td>0</td>\n",
       "      <td>0</td>\n",
       "    </tr>\n",
       "    <tr>\n",
       "      <th>124452</th>\n",
       "      <td>1</td>\n",
       "      <td>1937</td>\n",
       "      <td>2014.0</td>\n",
       "      <td>1</td>\n",
       "      <td>2</td>\n",
       "      <td>1</td>\n",
       "      <td>0</td>\n",
       "      <td>0</td>\n",
       "      <td>0</td>\n",
       "      <td>0</td>\n",
       "      <td>0</td>\n",
       "    </tr>\n",
       "    <tr>\n",
       "      <th>124454</th>\n",
       "      <td>1</td>\n",
       "      <td>1933</td>\n",
       "      <td>2015.0</td>\n",
       "      <td>1</td>\n",
       "      <td>2</td>\n",
       "      <td>0</td>\n",
       "      <td>0</td>\n",
       "      <td>0</td>\n",
       "      <td>0</td>\n",
       "      <td>0</td>\n",
       "      <td>0</td>\n",
       "    </tr>\n",
       "  </tbody>\n",
       "</table>\n",
       "<p>22612 rows × 11 columns</p>\n",
       "</div>"
      ],
      "text/plain": [
       "        Sex  Birth Year  Death Year  Assignment Step Flag  \\\n",
       "1         2        1933      2015.0                     2   \n",
       "10        1        1921      2016.0                     2   \n",
       "11        2        1926      2015.0                     1   \n",
       "19        1        1941      2018.0                     1   \n",
       "27        1        1919      2015.0                     1   \n",
       "...     ...         ...         ...                   ...   \n",
       "124442    2        1926      2016.0                     1   \n",
       "124443    2        1917      2014.0                     1   \n",
       "124447    2        1928      2015.0                     1   \n",
       "124452    1        1937      2014.0                     1   \n",
       "124454    1        1933      2015.0                     1   \n",
       "\n",
       "        Count of Primary Care Services  \\\n",
       "1                                    3   \n",
       "10                                   4   \n",
       "11                                   4   \n",
       "19                                   1   \n",
       "27                                   3   \n",
       "...                                ...   \n",
       "124442                               2   \n",
       "124443                               2   \n",
       "124447                               3   \n",
       "124452                               2   \n",
       "124454                               2   \n",
       "\n",
       "        Beneficiary had a date of death prior to the start of the benchmark year  \\\n",
       "1                                                       0                          \n",
       "10                                                      0                          \n",
       "11                                                      0                          \n",
       "19                                                      0                          \n",
       "27                                                      0                          \n",
       "...                                                   ...                          \n",
       "124442                                                  0                          \n",
       "124443                                                  1                          \n",
       "124447                                                  0                          \n",
       "124452                                                  1                          \n",
       "124454                                                  0                          \n",
       "\n",
       "        Beneficiary identifier is missing  \\\n",
       "1                                       0   \n",
       "10                                      0   \n",
       "11                                      0   \n",
       "19                                      0   \n",
       "27                                      0   \n",
       "...                                   ...   \n",
       "124442                                  0   \n",
       "124443                                  0   \n",
       "124447                                  0   \n",
       "124452                                  0   \n",
       "124454                                  0   \n",
       "\n",
       "        Beneficiary had at least one month of Part A-only Or Part B-only Coverage  \\\n",
       "1                                                       0                           \n",
       "10                                                      0                           \n",
       "11                                                      0                           \n",
       "19                                                      0                           \n",
       "27                                                      0                           \n",
       "...                                                   ...                           \n",
       "124442                                                  0                           \n",
       "124443                                                  0                           \n",
       "124447                                                  0                           \n",
       "124452                                                  0                           \n",
       "124454                                                  0                           \n",
       "\n",
       "        Beneficiary had at least one month in a Medicare Health Plan  \\\n",
       "1                                                       0              \n",
       "10                                                      0              \n",
       "11                                                      0              \n",
       "19                                                      0              \n",
       "27                                                      0              \n",
       "...                                                   ...              \n",
       "124442                                                  0              \n",
       "124443                                                  0              \n",
       "124447                                                  0              \n",
       "124452                                                  0              \n",
       "124454                                                  0              \n",
       "\n",
       "        Beneficiary does not reside in the United States  \\\n",
       "1                                                      0   \n",
       "10                                                     0   \n",
       "11                                                     0   \n",
       "19                                                     0   \n",
       "27                                                     0   \n",
       "...                                                  ...   \n",
       "124442                                                 0   \n",
       "124443                                                 0   \n",
       "124447                                                 0   \n",
       "124452                                                 0   \n",
       "124454                                                 0   \n",
       "\n",
       "        Beneficiary included in other Shared Savings Initiatives  \n",
       "1                                                       0         \n",
       "10                                                      0         \n",
       "11                                                      0         \n",
       "19                                                      0         \n",
       "27                                                      0         \n",
       "...                                                   ...         \n",
       "124442                                                  0         \n",
       "124443                                                  0         \n",
       "124447                                                  0         \n",
       "124452                                                  0         \n",
       "124454                                                  0         \n",
       "\n",
       "[22612 rows x 11 columns]"
      ]
     },
     "execution_count": 2,
     "metadata": {},
     "output_type": "execute_result"
    }
   ],
   "source": [
    "df = pd.read_csv('C:/Users/Mary Jane/Downloads/patient_churn.csv')\n",
    "\n",
    "df=df.dropna()\n",
    "df=df.drop('ID',axis=1)\n",
    "df"
   ]
  },
  {
   "cell_type": "code",
   "execution_count": 3,
   "metadata": {},
   "outputs": [
    {
     "data": {
      "text/html": [
       "<div>\n",
       "<style scoped>\n",
       "    .dataframe tbody tr th:only-of-type {\n",
       "        vertical-align: middle;\n",
       "    }\n",
       "\n",
       "    .dataframe tbody tr th {\n",
       "        vertical-align: top;\n",
       "    }\n",
       "\n",
       "    .dataframe thead th {\n",
       "        text-align: right;\n",
       "    }\n",
       "</style>\n",
       "<table border=\"1\" class=\"dataframe\">\n",
       "  <thead>\n",
       "    <tr style=\"text-align: right;\">\n",
       "      <th></th>\n",
       "      <th>Sex</th>\n",
       "      <th>Birth Year</th>\n",
       "      <th>Death Year</th>\n",
       "      <th>Assignment Step Flag</th>\n",
       "      <th>Count of Primary Care Services</th>\n",
       "      <th>Beneficiary had a date of death prior to the start of the benchmark year</th>\n",
       "      <th>Beneficiary identifier is missing</th>\n",
       "      <th>Beneficiary had at least one month of Part A-only Or Part B-only Coverage</th>\n",
       "      <th>Beneficiary had at least one month in a Medicare Health Plan</th>\n",
       "      <th>Beneficiary does not reside in the United States</th>\n",
       "      <th>Beneficiary included in other Shared Savings Initiatives</th>\n",
       "    </tr>\n",
       "  </thead>\n",
       "  <tbody>\n",
       "    <tr>\n",
       "      <th>count</th>\n",
       "      <td>22612.000000</td>\n",
       "      <td>22612.000000</td>\n",
       "      <td>22612.000000</td>\n",
       "      <td>22612.000000</td>\n",
       "      <td>22612.000000</td>\n",
       "      <td>22612.000000</td>\n",
       "      <td>22612.000000</td>\n",
       "      <td>22612.000000</td>\n",
       "      <td>22612.000000</td>\n",
       "      <td>22612.000000</td>\n",
       "      <td>22612.0</td>\n",
       "    </tr>\n",
       "    <tr>\n",
       "      <th>mean</th>\n",
       "      <td>1.544843</td>\n",
       "      <td>1933.630064</td>\n",
       "      <td>2015.538785</td>\n",
       "      <td>1.091014</td>\n",
       "      <td>3.618344</td>\n",
       "      <td>0.253273</td>\n",
       "      <td>0.000133</td>\n",
       "      <td>0.000973</td>\n",
       "      <td>0.059924</td>\n",
       "      <td>0.000265</td>\n",
       "      <td>0.0</td>\n",
       "    </tr>\n",
       "    <tr>\n",
       "      <th>std</th>\n",
       "      <td>0.497996</td>\n",
       "      <td>10.508260</td>\n",
       "      <td>1.262065</td>\n",
       "      <td>0.287635</td>\n",
       "      <td>3.881819</td>\n",
       "      <td>0.434895</td>\n",
       "      <td>0.011518</td>\n",
       "      <td>0.031177</td>\n",
       "      <td>0.237351</td>\n",
       "      <td>0.016288</td>\n",
       "      <td>0.0</td>\n",
       "    </tr>\n",
       "    <tr>\n",
       "      <th>min</th>\n",
       "      <td>1.000000</td>\n",
       "      <td>1908.000000</td>\n",
       "      <td>2013.000000</td>\n",
       "      <td>1.000000</td>\n",
       "      <td>1.000000</td>\n",
       "      <td>0.000000</td>\n",
       "      <td>0.000000</td>\n",
       "      <td>0.000000</td>\n",
       "      <td>0.000000</td>\n",
       "      <td>0.000000</td>\n",
       "      <td>0.0</td>\n",
       "    </tr>\n",
       "    <tr>\n",
       "      <th>25%</th>\n",
       "      <td>1.000000</td>\n",
       "      <td>1926.000000</td>\n",
       "      <td>2014.000000</td>\n",
       "      <td>1.000000</td>\n",
       "      <td>1.000000</td>\n",
       "      <td>0.000000</td>\n",
       "      <td>0.000000</td>\n",
       "      <td>0.000000</td>\n",
       "      <td>0.000000</td>\n",
       "      <td>0.000000</td>\n",
       "      <td>0.0</td>\n",
       "    </tr>\n",
       "    <tr>\n",
       "      <th>50%</th>\n",
       "      <td>2.000000</td>\n",
       "      <td>1932.000000</td>\n",
       "      <td>2016.000000</td>\n",
       "      <td>1.000000</td>\n",
       "      <td>2.000000</td>\n",
       "      <td>0.000000</td>\n",
       "      <td>0.000000</td>\n",
       "      <td>0.000000</td>\n",
       "      <td>0.000000</td>\n",
       "      <td>0.000000</td>\n",
       "      <td>0.0</td>\n",
       "    </tr>\n",
       "    <tr>\n",
       "      <th>75%</th>\n",
       "      <td>2.000000</td>\n",
       "      <td>1940.000000</td>\n",
       "      <td>2017.000000</td>\n",
       "      <td>1.000000</td>\n",
       "      <td>4.000000</td>\n",
       "      <td>1.000000</td>\n",
       "      <td>0.000000</td>\n",
       "      <td>0.000000</td>\n",
       "      <td>0.000000</td>\n",
       "      <td>0.000000</td>\n",
       "      <td>0.0</td>\n",
       "    </tr>\n",
       "    <tr>\n",
       "      <th>max</th>\n",
       "      <td>2.000000</td>\n",
       "      <td>1991.000000</td>\n",
       "      <td>2018.000000</td>\n",
       "      <td>2.000000</td>\n",
       "      <td>116.000000</td>\n",
       "      <td>1.000000</td>\n",
       "      <td>1.000000</td>\n",
       "      <td>1.000000</td>\n",
       "      <td>1.000000</td>\n",
       "      <td>1.000000</td>\n",
       "      <td>0.0</td>\n",
       "    </tr>\n",
       "  </tbody>\n",
       "</table>\n",
       "</div>"
      ],
      "text/plain": [
       "                Sex    Birth Year    Death Year  Assignment Step Flag  \\\n",
       "count  22612.000000  22612.000000  22612.000000          22612.000000   \n",
       "mean       1.544843   1933.630064   2015.538785              1.091014   \n",
       "std        0.497996     10.508260      1.262065              0.287635   \n",
       "min        1.000000   1908.000000   2013.000000              1.000000   \n",
       "25%        1.000000   1926.000000   2014.000000              1.000000   \n",
       "50%        2.000000   1932.000000   2016.000000              1.000000   \n",
       "75%        2.000000   1940.000000   2017.000000              1.000000   \n",
       "max        2.000000   1991.000000   2018.000000              2.000000   \n",
       "\n",
       "       Count of Primary Care Services  \\\n",
       "count                    22612.000000   \n",
       "mean                         3.618344   \n",
       "std                          3.881819   \n",
       "min                          1.000000   \n",
       "25%                          1.000000   \n",
       "50%                          2.000000   \n",
       "75%                          4.000000   \n",
       "max                        116.000000   \n",
       "\n",
       "       Beneficiary had a date of death prior to the start of the benchmark year  \\\n",
       "count                                       22612.000000                          \n",
       "mean                                            0.253273                          \n",
       "std                                             0.434895                          \n",
       "min                                             0.000000                          \n",
       "25%                                             0.000000                          \n",
       "50%                                             0.000000                          \n",
       "75%                                             1.000000                          \n",
       "max                                             1.000000                          \n",
       "\n",
       "       Beneficiary identifier is missing  \\\n",
       "count                       22612.000000   \n",
       "mean                            0.000133   \n",
       "std                             0.011518   \n",
       "min                             0.000000   \n",
       "25%                             0.000000   \n",
       "50%                             0.000000   \n",
       "75%                             0.000000   \n",
       "max                             1.000000   \n",
       "\n",
       "       Beneficiary had at least one month of Part A-only Or Part B-only Coverage  \\\n",
       "count                                       22612.000000                           \n",
       "mean                                            0.000973                           \n",
       "std                                             0.031177                           \n",
       "min                                             0.000000                           \n",
       "25%                                             0.000000                           \n",
       "50%                                             0.000000                           \n",
       "75%                                             0.000000                           \n",
       "max                                             1.000000                           \n",
       "\n",
       "       Beneficiary had at least one month in a Medicare Health Plan  \\\n",
       "count                                       22612.000000              \n",
       "mean                                            0.059924              \n",
       "std                                             0.237351              \n",
       "min                                             0.000000              \n",
       "25%                                             0.000000              \n",
       "50%                                             0.000000              \n",
       "75%                                             0.000000              \n",
       "max                                             1.000000              \n",
       "\n",
       "       Beneficiary does not reside in the United States  \\\n",
       "count                                      22612.000000   \n",
       "mean                                           0.000265   \n",
       "std                                            0.016288   \n",
       "min                                            0.000000   \n",
       "25%                                            0.000000   \n",
       "50%                                            0.000000   \n",
       "75%                                            0.000000   \n",
       "max                                            1.000000   \n",
       "\n",
       "       Beneficiary included in other Shared Savings Initiatives  \n",
       "count                                            22612.0         \n",
       "mean                                                 0.0         \n",
       "std                                                  0.0         \n",
       "min                                                  0.0         \n",
       "25%                                                  0.0         \n",
       "50%                                                  0.0         \n",
       "75%                                                  0.0         \n",
       "max                                                  0.0         "
      ]
     },
     "execution_count": 3,
     "metadata": {},
     "output_type": "execute_result"
    }
   ],
   "source": [
    "df.describe()"
   ]
  },
  {
   "cell_type": "code",
   "execution_count": 4,
   "metadata": {
    "colab": {
     "base_uri": "https://localhost:8080/",
     "height": 456
    },
    "executionInfo": {
     "elapsed": 140,
     "status": "ok",
     "timestamp": 1623783268309,
     "user": {
      "displayName": "David Anderson",
      "photoUrl": "https://lh3.googleusercontent.com/a-/AOh14Gh1wOZjsnAHR49J0WdE5Suuwf2KoMczy0iQCcSp=s64",
      "userId": "07356168932935782330"
     },
     "user_tz": 240
    },
    "id": "BNVIMXwGC_dn",
    "outputId": "20769abe-5b39-4608-cba6-7097d1edaf59"
   },
   "outputs": [
    {
     "data": {
      "text/plain": [
       "<AxesSubplot:>"
      ]
     },
     "execution_count": 4,
     "metadata": {},
     "output_type": "execute_result"
    },
    {
     "data": {
      "image/png": "[encoded data removed]",
      "text/plain": [
       "<Figure size 1440x1080 with 2 Axes>"
      ]
     },
     "metadata": {
      "needs_background": "light"
     },
     "output_type": "display_data"
    }
   ],
   "source": [
    "df.corr()\n",
    "\n",
    "import seaborn as sns\n",
    "\n",
    "fig, ax = plt.subplots(figsize=(20,15))   \n",
    "sns.heatmap(df.corr(), annot = True, fmt ='.1g',vmin=-1, vmax=1, center= 0,ax=ax)"
   ]
  },
  {
   "cell_type": "markdown",
   "metadata": {
    "id": "gm7TpbZO-mk3"
   },
   "source": [
    "Partition into a training and test set. Here i'm doing 3/4 train 1/4 test."
   ]
  },
  {
   "cell_type": "code",
   "execution_count": 5,
   "metadata": {},
   "outputs": [],
   "source": [
    "from sklearn.model_selection import train_test_split\n",
    "\n",
    "train_set, test_set = train_test_split(df, test_size=0.25, random_state=42)"
   ]
  },
  {
   "cell_type": "code",
   "execution_count": 6,
   "metadata": {},
   "outputs": [],
   "source": [
    "X_train=train_set.iloc[:,:5]\n",
    "Y_train=train_set.iloc[:,5:]\n",
    "\n",
    "X_test=test_set.iloc[:,:5]\n",
    "Y_test=test_set.iloc[:,5:]"
   ]
  },
  {
   "cell_type": "markdown",
   "metadata": {
    "id": "671S5vy3-sQp"
   },
   "source": [
    "Now we normalize our input variables to a standard scale (mean 0, st dev 1)"
   ]
  },
  {
   "cell_type": "code",
   "execution_count": 9,
   "metadata": {},
   "outputs": [],
   "source": [
    "from sklearn.pipeline import Pipeline\n",
    "from sklearn.compose import ColumnTransformer\n",
    "from sklearn.preprocessing import OneHotEncoder\n",
    "from sklearn.preprocessing import StandardScaler\n",
    "\n",
    "cat_attribs = [\"Sex\",'Assignment Step Flag']\n",
    "num_attribs = list(X_train.drop(cat_attribs,axis=1) )\n",
    "\n",
    "\n",
    "num_pipeline = Pipeline( [\n",
    " ('std_scaler', StandardScaler()),   \n",
    "])\n",
    "\n",
    "#define the pipeline process for the data set\n",
    "full_pipeline = ColumnTransformer( [\n",
    "    ('num', num_pipeline, num_attribs),\n",
    "    ('cat', OneHotEncoder(), cat_attribs)      \n",
    "])"
   ]
  },
  {
   "cell_type": "code",
   "execution_count": 10,
   "metadata": {},
   "outputs": [
    {
     "data": {
      "text/plain": [
       "(16959, 7)"
      ]
     },
     "execution_count": 10,
     "metadata": {},
     "output_type": "execute_result"
    }
   ],
   "source": [
    "#create an array of prepared data based on the test data set\n",
    "X_train = full_pipeline.fit_transform(X_train)\n",
    "X_train.shape"
   ]
  },
  {
   "cell_type": "code",
   "execution_count": 11,
   "metadata": {},
   "outputs": [
    {
     "data": {
      "text/plain": [
       "(5653, 7)"
      ]
     },
     "execution_count": 11,
     "metadata": {},
     "output_type": "execute_result"
    }
   ],
   "source": [
    "X_test = full_pipeline.fit_transform(X_test)\n",
    "X_test.shape"
   ]
  },
  {
   "cell_type": "code",
   "execution_count": null,
   "metadata": {},
   "outputs": [],
   "source": []
  },
  {
   "cell_type": "code",
   "execution_count": null,
   "metadata": {},
   "outputs": [],
   "source": []
  },
  {
   "cell_type": "code",
   "execution_count": 12,
   "metadata": {},
   "outputs": [
    {
     "data": {
      "text/plain": [
       "4"
      ]
     },
     "execution_count": 12,
     "metadata": {},
     "output_type": "execute_result"
    }
   ],
   "source": [
    "from sklearn.decomposition import PCA\n",
    "import pandas as pd\n",
    "import numpy as np\n",
    "np.random.seed(0)\n",
    "\n",
    "#determine the number of features/dimensions required to preserve 95% of the training set's variance\n",
    "#create a PCA object\n",
    "pca = PCA()\n",
    "\n",
    "#fit the data to the PCA\n",
    "pca.fit(X_train)\n",
    "\n",
    "\n",
    "cumsum = np.cumsum(pca.explained_variance_ratio_)\n",
    "d = np.argmax(cumsum >= 0.95) + 1\n",
    "d"
   ]
  },
  {
   "cell_type": "code",
   "execution_count": 13,
   "metadata": {},
   "outputs": [
    {
     "data": {
      "text/plain": [
       "array([2.85621737e-01, 2.81586669e-01, 2.59163273e-01, 1.29377008e-01,\n",
       "       4.42513133e-02, 2.47969314e-33, 2.03912157e-33])"
      ]
     },
     "execution_count": 13,
     "metadata": {},
     "output_type": "execute_result"
    }
   ],
   "source": [
    "pca.explained_variance_ratio_"
   ]
  },
  {
   "cell_type": "code",
   "execution_count": 16,
   "metadata": {},
   "outputs": [],
   "source": [
    "\n",
    "model = PCA(n_components=.95).fit(X_train)\n",
    "X_pc = model.transform(X_train)\n",
    "\n",
    "# number of components\n",
    "n_pcs= model.components_.shape[0]\n",
    "\n",
    "# get the index of the most important feature on EACH component\n",
    "# LIST COMPREHENSION HERE\n",
    "most_important = [np.abs(model.components_[i]).argmax() for i in range(n_pcs)]\n",
    "\n",
    "initial_feature_names = ['Sex','Birth_Year','Death_Year','Step','Primary_Care']\n",
    "# get the names\n",
    "most_important_features = [initial_feature_names[most_important[i]] for i in range(n_pcs)]\n",
    "\n",
    "# LIST COMPREHENSION HERE AGAIN\n",
    "dic = {'PC{}'.format(i): most_important_features[i] for i in range(n_pcs)}\n",
    "\n",
    "# build the dataframe\n",
    "df1 = pd.DataFrame(dic.items())"
   ]
  },
  {
   "cell_type": "markdown",
   "metadata": {
    "id": "gm7TpbZO-mk3"
   },
   "source": [
    "Most important Features based on variability in data"
   ]
  },
  {
   "cell_type": "code",
   "execution_count": 17,
   "metadata": {},
   "outputs": [
    {
     "data": {
      "text/html": [
       "<div>\n",
       "<style scoped>\n",
       "    .dataframe tbody tr th:only-of-type {\n",
       "        vertical-align: middle;\n",
       "    }\n",
       "\n",
       "    .dataframe tbody tr th {\n",
       "        vertical-align: top;\n",
       "    }\n",
       "\n",
       "    .dataframe thead th {\n",
       "        text-align: right;\n",
       "    }\n",
       "</style>\n",
       "<table border=\"1\" class=\"dataframe\">\n",
       "  <thead>\n",
       "    <tr style=\"text-align: right;\">\n",
       "      <th></th>\n",
       "      <th>0</th>\n",
       "      <th>1</th>\n",
       "    </tr>\n",
       "  </thead>\n",
       "  <tbody>\n",
       "    <tr>\n",
       "      <th>0</th>\n",
       "      <td>PC0</td>\n",
       "      <td>Sex</td>\n",
       "    </tr>\n",
       "    <tr>\n",
       "      <th>1</th>\n",
       "      <td>PC1</td>\n",
       "      <td>Birth_Year</td>\n",
       "    </tr>\n",
       "    <tr>\n",
       "      <th>2</th>\n",
       "      <td>PC2</td>\n",
       "      <td>Death_Year</td>\n",
       "    </tr>\n",
       "    <tr>\n",
       "      <th>3</th>\n",
       "      <td>PC3</td>\n",
       "      <td>Primary_Care</td>\n",
       "    </tr>\n",
       "  </tbody>\n",
       "</table>\n",
       "</div>"
      ],
      "text/plain": [
       "     0             1\n",
       "0  PC0           Sex\n",
       "1  PC1    Birth_Year\n",
       "2  PC2    Death_Year\n",
       "3  PC3  Primary_Care"
      ]
     },
     "execution_count": 17,
     "metadata": {},
     "output_type": "execute_result"
    }
   ],
   "source": [
    "df1"
   ]
  },
  {
   "cell_type": "markdown",
   "metadata": {
    "id": "-nlbDPiE-0L_"
   },
   "source": [
    "Now we build our neural network"
   ]
  },
  {
   "cell_type": "code",
   "execution_count": 72,
   "metadata": {},
   "outputs": [],
   "source": [
    "from tensorflow import keras\n",
    "\n",
    "#starting by setting random seeds and restarting keras blackend session\n",
    "np.random.seed(42)\n",
    "tf.random.set_seed(42)\n",
    "\n",
    "#resets the Keras global state - helps avoid clutter from old models and layers, especially when memory is limited\n",
    "keras.backend.clear_session()"
   ]
  },
  {
   "cell_type": "code",
   "execution_count": 73,
   "metadata": {
    "executionInfo": {
     "elapsed": 127,
     "status": "ok",
     "timestamp": 1623783274316,
     "user": {
      "displayName": "David Anderson",
      "photoUrl": "https://lh3.googleusercontent.com/a-/AOh14Gh1wOZjsnAHR49J0WdE5Suuwf2KoMczy0iQCcSp=s64",
      "userId": "07356168932935782330"
     },
     "user_tz": 240
    },
    "id": "rSJDLIlBJpKo"
   },
   "outputs": [],
   "source": [
    "model = keras.models.Sequential([\n",
    "    keras.layers.Dense(100, activation='relu',input_shape=(7, )),\n",
    "    keras.layers.Dense(50, activation='relu'),\n",
    "    keras.layers.Dense(20, activation='relu'),\n",
    "    keras.layers.Dense(6, activation=\"softmax\"),\n",
    "])"
   ]
  },
  {
   "cell_type": "code",
   "execution_count": 74,
   "metadata": {},
   "outputs": [
    {
     "name": "stdout",
     "output_type": "stream",
     "text": [
      "Model: \"sequential\"\n",
      "_________________________________________________________________\n",
      "Layer (type)                 Output Shape              Param #   \n",
      "=================================================================\n",
      "dense (Dense)                (None, 100)               800       \n",
      "_________________________________________________________________\n",
      "dense_1 (Dense)              (None, 50)                5050      \n",
      "_________________________________________________________________\n",
      "dense_2 (Dense)              (None, 20)                1020      \n",
      "_________________________________________________________________\n",
      "dense_3 (Dense)              (None, 6)                 126       \n",
      "=================================================================\n",
      "Total params: 6,996\n",
      "Trainable params: 6,996\n",
      "Non-trainable params: 0\n",
      "_________________________________________________________________\n"
     ]
    }
   ],
   "source": [
    "model.summary()"
   ]
  },
  {
   "cell_type": "markdown",
   "metadata": {
    "id": "Ae-3hQ9n-_5O"
   },
   "source": [
    "Then we train it"
   ]
  },
  {
   "cell_type": "code",
   "execution_count": 75,
   "metadata": {},
   "outputs": [
    {
     "name": "stderr",
     "output_type": "stream",
     "text": [
      "C:\\Users\\Mary Jane\\anaconda3\\lib\\site-packages\\tensorflow\\python\\keras\\optimizer_v2\\optimizer_v2.py:374: UserWarning: The `lr` argument is deprecated, use `learning_rate` instead.\n",
      "  warnings.warn(\n"
     ]
    }
   ],
   "source": [
    "from focal_loss import BinaryFocalLoss\n",
    "\n",
    "m = tf.keras.metrics.PrecisionAtRecall(0.5)\n",
    "m.update_state([0, 0, 0, 1, 1], [0, 0.3, 0.8, 0.3, 0.8])\n",
    "m.result().numpy()\n",
    "\n",
    "\n",
    "\n",
    "k = tf.keras.metrics.SensitivityAtSpecificity(0.5)\n",
    "k.update_state([0, 0, 0, 1, 1], [0, 0.3, 0.8, 0.3, 0.8])\n",
    "k.result().numpy()\n",
    "\n",
    "\n",
    "model.compile(loss=tf.keras.losses.CategoricalCrossentropy(),optimizer=keras.optimizers.Nadam(lr=0.00001), metrics=[tf.keras.metrics.AUC(),k,m])"
   ]
  },
  {
   "cell_type": "code",
   "execution_count": 76,
   "metadata": {},
   "outputs": [],
   "source": [
    "early_stopping = keras.callbacks.EarlyStopping(monitor='loss',mode='min',patience=1,verbose=1)"
   ]
  },
  {
   "cell_type": "code",
   "execution_count": 77,
   "metadata": {
    "colab": {
     "base_uri": "https://localhost:8080/"
    },
    "executionInfo": {
     "elapsed": 142746,
     "status": "ok",
     "timestamp": 1623783418894,
     "user": {
      "displayName": "David Anderson",
      "photoUrl": "https://lh3.googleusercontent.com/a-/AOh14Gh1wOZjsnAHR49J0WdE5Suuwf2KoMczy0iQCcSp=s64",
      "userId": "07356168932935782330"
     },
     "user_tz": 240
    },
    "id": "6PnMq1tzJ1OA",
    "outputId": "bcb8283c-c510-419a-85f6-a807aa2d51ad"
   },
   "outputs": [
    {
     "name": "stdout",
     "output_type": "stream",
     "text": [
      "Epoch 1/100\n",
      "16959/16959 [==============================] - 14s 799us/step - loss: 0.3049 - auc: 0.8985 - sensitivity_at_specificity: 0.9607 - precision_at_recall: 0.5199\n",
      "Epoch 2/100\n",
      "16959/16959 [==============================] - 13s 783us/step - loss: 0.1153 - auc: 0.9675 - sensitivity_at_specificity: 0.9974 - precision_at_recall: 0.9970\n",
      "Epoch 3/100\n",
      "16959/16959 [==============================] - 13s 781us/step - loss: 0.0797 - auc: 0.9743 - sensitivity_at_specificity: 0.9985 - precision_at_recall: 0.9992\n",
      "Epoch 4/100\n",
      "16959/16959 [==============================] - 14s 804us/step - loss: 0.0625 - auc: 0.9789 - sensitivity_at_specificity: 0.9991 - precision_at_recall: 1.0000\n",
      "Epoch 5/100\n",
      "16959/16959 [==============================] - 13s 786us/step - loss: 0.0555 - auc: 0.9803 - sensitivity_at_specificity: 0.9991 - precision_at_recall: 1.0000\n",
      "Epoch 6/100\n",
      "16959/16959 [==============================] - 13s 786us/step - loss: 0.0562 - auc: 0.9793 - sensitivity_at_specificity: 0.9985 - precision_at_recall: 1.0000\n",
      "Epoch 00006: early stopping\n"
     ]
    },
    {
     "data": {
      "text/plain": [
       "<tensorflow.python.keras.callbacks.History at 0x1d9c98ed9a0>"
      ]
     },
     "execution_count": 77,
     "metadata": {},
     "output_type": "execute_result"
    }
   ],
   "source": [
    "model.fit(X_train, Y_train,epochs=100, batch_size=1, verbose=1,callbacks=early_stopping)"
   ]
  },
  {
   "cell_type": "markdown",
   "metadata": {
    "id": "cxZl5cxM_Bgj"
   },
   "source": [
    "Now we predict"
   ]
  },
  {
   "cell_type": "code",
   "execution_count": 78,
   "metadata": {
    "colab": {
     "base_uri": "https://localhost:8080/"
    },
    "executionInfo": {
     "elapsed": 1320,
     "status": "ok",
     "timestamp": 1623783420206,
     "user": {
      "displayName": "David Anderson",
      "photoUrl": "https://lh3.googleusercontent.com/a-/AOh14Gh1wOZjsnAHR49J0WdE5Suuwf2KoMczy0iQCcSp=s64",
      "userId": "07356168932935782330"
     },
     "user_tz": 240
    },
    "id": "IVZffET4LSBq",
    "outputId": "d69cc4c0-3af5-430a-db10-dbf625c53c26"
   },
   "outputs": [
    {
     "name": "stdout",
     "output_type": "stream",
     "text": [
      "177/177 [==============================] - 0s 910us/step - loss: 0.0488 - auc: 0.9845 - sensitivity_at_specificity: 0.9984 - precision_at_recall: 1.0000\n",
      "[[9.96e-02 1.56e-01 1.73e-01 5.54e-01 1.80e-02 3.12e-04]\n",
      " [1.11e-01 1.20e-01 1.05e-01 6.40e-01 2.37e-02 3.46e-04]\n",
      " [2.03e-02 1.77e-01 1.57e-01 6.22e-01 2.35e-02 1.49e-04]\n",
      " ...\n",
      " [1.18e-01 1.41e-01 8.57e-02 6.29e-01 2.67e-02 4.92e-04]\n",
      " [1.10e-01 1.64e-01 1.25e-01 5.78e-01 2.21e-02 4.39e-04]\n",
      " [2.98e-01 1.34e-01 9.91e-02 4.42e-01 2.46e-02 1.14e-03]]\n",
      "[0.048782166093587875, 0.9845364093780518, 0.9983534812927246, 1.0]\n"
     ]
    }
   ],
   "source": [
    "y_pred = model.predict(X_test)\n",
    "score = model.evaluate(X_test, Y_test,verbose=1)\n",
    "print(y_pred)\n",
    "\n",
    "print(score)\n",
    "\n"
   ]
  },
  {
   "cell_type": "code",
   "execution_count": 79,
   "metadata": {},
   "outputs": [
    {
     "data": {
      "text/plain": [
       "array([[9.96e-02, 1.56e-01, 1.73e-01, 5.54e-01, 1.80e-02, 3.12e-04],\n",
       "       [1.11e-01, 1.20e-01, 1.05e-01, 6.40e-01, 2.37e-02, 3.46e-04],\n",
       "       [2.03e-02, 1.77e-01, 1.57e-01, 6.22e-01, 2.35e-02, 1.49e-04],\n",
       "       ...,\n",
       "       [1.18e-01, 1.41e-01, 8.57e-02, 6.29e-01, 2.67e-02, 4.92e-04],\n",
       "       [1.10e-01, 1.64e-01, 1.25e-01, 5.78e-01, 2.21e-02, 4.39e-04],\n",
       "       [2.98e-01, 1.34e-01, 9.91e-02, 4.42e-01, 2.46e-02, 1.14e-03]],\n",
       "      dtype=float32)"
      ]
     },
     "execution_count": 79,
     "metadata": {},
     "output_type": "execute_result"
    }
   ],
   "source": [
    "y_pred = model.predict(X_test)\n",
    "y_pred"
   ]
  },
  {
   "cell_type": "code",
   "execution_count": 80,
   "metadata": {},
   "outputs": [],
   "source": [
    "def plot_confusion_matrix(cm, classes,\n",
    "                          normalize=False,\n",
    "                          title='Confusion matrix',\n",
    "                          cmap=plt.cm.Blues):\n",
    "    \"\"\"\n",
    "    This function prints and plots the confusion matrix.\n",
    "    Normalization can be applied by setting `normalize=True`.\n",
    "    \"\"\"\n",
    "    if normalize:\n",
    "        cm = cm.astype('float') / cm.sum(axis=1)[:, np.newaxis]\n",
    "        print(\"Normalized confusion matrix\")\n",
    "    else:\n",
    "        print('Confusion matrix, without normalization')\n",
    "\n",
    "    print(cm)\n",
    "\n",
    "    plt.imshow(cm, interpolation='nearest', cmap=cmap)\n",
    "    plt.title(title)\n",
    "    plt.colorbar()\n",
    "    tick_marks = np.arange(len(classes))\n",
    "    plt.xticks(tick_marks, classes, rotation=45)\n",
    "    plt.yticks(tick_marks, classes)\n",
    "\n",
    "    fmt = '.2f' if normalize else 'd'\n",
    "    thresh = .5\n",
    "    for i, j in itertools.product(range(cm.shape[0]), range(cm.shape[1])):\n",
    "        plt.text(j, i, format(cm[i, j], fmt),\n",
    "                 horizontalalignment=\"center\",\n",
    "                 color=\"white\" if cm[i, j] > thresh else \"black\")\n",
    "\n",
    "    plt.ylabel('True label')\n",
    "    plt.xlabel('Predicted label')\n",
    "    plt.tight_layout()"
   ]
  },
  {
   "cell_type": "code",
   "execution_count": 81,
   "metadata": {},
   "outputs": [],
   "source": [
    "from sklearn.metrics import confusion_matrix\n",
    "\n",
    "Y_test2=Y_test.to_numpy()\n",
    "\n",
    "Actuals=Y_test2.argmax(axis=1)\n",
    "y_pred2=y_pred[:,:].argmax(axis=1)\n",
    "\n",
    "matrix = confusion_matrix(Actuals, y_pred2)\n",
    "np.set_printoptions(precision=2)"
   ]
  },
  {
   "cell_type": "code",
   "execution_count": 82,
   "metadata": {},
   "outputs": [
    {
     "data": {
      "text/plain": [
       "array([[2085,  128,   20, 3056,    0],\n",
       "       [   1,    0,    0,    1,    0],\n",
       "       [   1,    0,    0,    3,    0],\n",
       "       [  63,    5,    1,  288,    0],\n",
       "       [   0,    0,    0,    1,    0]], dtype=int64)"
      ]
     },
     "execution_count": 82,
     "metadata": {},
     "output_type": "execute_result"
    }
   ],
   "source": [
    "matrix"
   ]
  },
  {
   "cell_type": "code",
   "execution_count": 83,
   "metadata": {},
   "outputs": [],
   "source": [
    "classes=df.iloc[:,5:].columns"
   ]
  },
  {
   "cell_type": "code",
   "execution_count": 84,
   "metadata": {},
   "outputs": [
    {
     "name": "stdout",
     "output_type": "stream",
     "text": [
      "Normalized confusion matrix\n",
      "[[0.39 0.02 0.   0.58 0.  ]\n",
      " [0.5  0.   0.   0.5  0.  ]\n",
      " [0.25 0.   0.   0.75 0.  ]\n",
      " [0.18 0.01 0.   0.81 0.  ]\n",
      " [0.   0.   0.   1.   0.  ]]\n"
     ]
    },
    {
     "data": {
      "image/png": "[encoded data removed]",
      "text/plain": [
       "<Figure size 864x864 with 2 Axes>"
      ]
     },
     "metadata": {
      "needs_background": "light"
     },
     "output_type": "display_data"
    }
   ],
   "source": [
    "import itertools\n",
    "\n",
    "plt.figure(figsize=(12,12))\n",
    "foo = plot_confusion_matrix(matrix, classes=classes,normalize=True,\n",
    "                      title='Confusion matrix')"
   ]
  },
  {
   "cell_type": "code",
   "execution_count": null,
   "metadata": {},
   "outputs": [],
   "source": []
  }
 ],
 "metadata": {
  "colab": {
   "authorship_tag": "ABX9TyPsYfpC1HoGoOIM6baMJnPM",
   "collapsed_sections": [],
   "name": "BankDataNetwork.ipynb",
   "provenance": []
  },
  "kernelspec": {
   "display_name": "Python 3",
   "language": "python",
   "name": "python3"
  },
  "language_info": {
   "codemirror_mode": {
    "name": "ipython",
    "version": 3
   },
   "file_extension": ".py",
   "mimetype": "text/x-python",
   "name": "python",
   "nbconvert_exporter": "python",
   "pygments_lexer": "ipython3",
   "version": "3.8.8"
  }
 },
 "nbformat": 4,
 "nbformat_minor": 1
}
